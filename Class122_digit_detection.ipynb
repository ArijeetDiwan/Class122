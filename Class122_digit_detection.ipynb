{
  "nbformat": 4,
  "nbformat_minor": 0,
  "metadata": {
    "colab": {
      "name": "Class122_digit_detection.ipynb",
      "provenance": [],
      "collapsed_sections": [],
      "include_colab_link": true
    },
    "kernelspec": {
      "name": "python3",
      "display_name": "Python 3"
    }
  },
  "cells": [
    {
      "cell_type": "markdown",
      "metadata": {
        "id": "view-in-github",
        "colab_type": "text"
      },
      "source": [
        "<a href=\"https://colab.research.google.com/github/ArijeetDiwan/Class122/blob/main/Class122_digit_detection.ipynb\" target=\"_parent\"><img src=\"https://colab.research.google.com/assets/colab-badge.svg\" alt=\"Open In Colab\"/></a>"
      ]
    },
    {
      "cell_type": "markdown",
      "metadata": {
        "id": "pimUvK_SBntM"
      },
      "source": [
        "# Logistic Regression for Image Classification\n",
        "\n",
        "We have already seen how powerful openCV can be, and we also know how to use it now. ***CV stands for computer vision***.\n",
        "\n",
        "We also know how Logistic Regression could be used to separate different outcomes. We have learnt about binary logistic regression where the outcome is always in True or False, but what if it's not?\n",
        "\n",
        "Don't worry! We got you covered. Today, we are going to see how we can make our computer detect a hand-written number.\n",
        "\n",
        "\\\n",
        "To get started, let's first import all the libraries that we will require to do this."
      ]
    },
    {
      "cell_type": "code",
      "metadata": {
        "id": "kKIbgm5j2eSv"
      },
      "source": [
        "import cv2\n",
        "import numpy as np\n",
        "import pandas as pd\n",
        "import seaborn as sns\n",
        "import matplotlib.pyplot as plt\n",
        "from sklearn.datasets import fetch_openml\n",
        "from sklearn.model_selection import train_test_split\n",
        "from sklearn.linear_model import LogisticRegression\n",
        "from sklearn.metrics import accuracy_score"
      ],
      "execution_count": 4,
      "outputs": []
    },
    {
      "cell_type": "markdown",
      "metadata": {
        "id": "Mtcw6D7sCZ4E"
      },
      "source": [
        "Let's go through these libraries one by one -\n",
        "\n",
        "\n",
        "1.   `import cv2` - This is the library with which we are going to use our computer's camera.\n",
        "2.   `import numpy as np` - This is so that we can perform complex mathematical/list operations\n",
        "3.   `import pandas as pd` - This is so that we can treat our data as DataFrames. We already know how helpful they are.\n",
        "4.   `import seaborn as sns` - This is a python module to prettify the charts that we draw with `matplotlib`. We have used it a couple of times.\n",
        "5.   `import matplotlib.pyplot as plt` - This library is used to draw the charts.\n",
        "6.   `from sklearn.datasets import fetch_openml` - This function allows us to retrieve a data set by name from OpenML, a public repository for machine learning data and experiments\n",
        "7.   `from sklearn.model_selection import train_test_split` - This is to split our data into training and testing.\n",
        "8.   `from sklearn.linear_model import LogisticRegression` - This is for creating a LogiticRegression Classifier\n",
        "9.   `from sklearn.metrics import accuracy_score` - This is to measure the accuracy score of the model.\n",
        "\n",
        "\n",
        "\n",
        "\n",
        "\n",
        "\n",
        "\n",
        "\n",
        "\n"
      ]
    },
    {
      "cell_type": "code",
      "metadata": {
        "id": "FZAlR40H2htn",
        "colab": {
          "base_uri": "https://localhost:8080/"
        },
        "outputId": "179e4902-8d0d-477e-867d-01a80c909611"
      },
      "source": [
        "X, y = fetch_openml('mnist_784', version=1, return_X_y=True)\n",
        "print(pd.Series(y).value_counts())\n",
        "classes = ['0', '1', '2','3', '4','5', '6', '7', '8', '9']\n",
        "nclasses = len(classes)"
      ],
      "execution_count": 3,
      "outputs": [
        {
          "output_type": "stream",
          "name": "stdout",
          "text": [
            "1    7877\n",
            "7    7293\n",
            "3    7141\n",
            "2    6990\n",
            "9    6958\n",
            "0    6903\n",
            "6    6876\n",
            "8    6825\n",
            "4    6824\n",
            "5    6313\n",
            "dtype: int64\n"
          ]
        }
      ]
    },
    {
      "cell_type": "markdown",
      "metadata": {
        "id": "Yqe_ePDlx1GN"
      },
      "source": [
        "Here, we are using a dataset from OpenML where we have 70,000 images of hand-written digits.\n",
        "\n",
        "\\\n",
        "Let's go through this code line by line -\n",
        "\n",
        "\\\n",
        "As we know, we can represent any given image in the form of binary. Here in the first line of code -\n",
        "\n",
        "`X, y = fetch_openml('mnist_784', version=1, return_X_y=True)`\n",
        "\n",
        "We are fetching the dataset of images of handwritten digits from the OpenML datasets. The `X` here would be the data of images represented in Binary, while `y` would be the label of that image, i.e - 0, 1, 2, ..., 9\n",
        "\n",
        "With the second line of code, `print(pd.Series(y).value_counts())` it tells us the count of samples for each of the label. Here, we can see that label 1 has 7,877 samples, 2 has 6,990 samples and so on.\n",
        "\n",
        "Finally, we are creating a list that contains all the labels. Let's move on to the next chunk of code and explore how these samples look like"
      ]
    },
    {
      "cell_type": "code",
      "metadata": {
        "id": "unYMDQdQ973W",
        "colab": {
          "base_uri": "https://localhost:8080/",
          "height": 738
        },
        "outputId": "db3128ca-c521-447f-d503-f9c612ec4852"
      },
      "source": [
        "samples_per_class = 5\n",
        "figure = plt.figure(figsize=(15,13))\n",
        "\n",
        "idx_cls = 0\n",
        "for cls in classes:\n",
        "  idxs = np.flatnonzero(y == cls)\n",
        "  idxs = np.random.choice(idxs, samples_per_class, replace=False)\n",
        "  i = 0\n",
        "  for idx in idxs:\n",
        "    plt_idx = i * nclasses + idx_cls + 1\n",
        "    p = plt.subplot(samples_per_class, nclasses, plt_idx);\n",
        "    p = sns.heatmap(np.reshape(X[idx], (28,28)), cmap=plt.cm.gray, \n",
        "             xticklabels=False, yticklabels=False, cbar=False);\n",
        "    p = plt.axis('off');\n",
        "    i += 1\n",
        "  idx_cls += 1"
      ],
      "execution_count": 7,
      "outputs": [
        {
          "output_type": "display_data",
          "data": {
            "image/png": "[encoded data removed]",
            "text/plain": [
              "<Figure size 1080x936 with 50 Axes>"
            ]
          },
          "metadata": {}
        }
      ]
    },
    {
      "cell_type": "markdown",
      "metadata": {
        "id": "mBPSeO827tO7"
      },
      "source": [
        "Here, we are representing 5 samples of each of the labels. Let's break this down line by line.\n",
        "\n",
        "\\\n",
        "With the first line of code - We are saying that we want to display 5 samples per labels.\n",
        "\n",
        "\\\n",
        "Next, with `figure = plt.figure(figsize=(nclasses*2,(1+samples_per_class*2)))`, we are setting up the total size of the figure that we plotted above.\n",
        "\n",
        "\\\n",
        "Now we get into a loop where we are iterating over the classes that we created earlier, which was a list of all the labels (0, 1, 2, ..., 9)\n",
        "\n",
        "\\\n",
        "We are first filtering out all the indexes of the elements with value equal to our label with `idxs = np.flatnonzero(y == cls)` and then we are selecting any 5 random indexes with `np.random.choice(idxs, samples_per_class, replace=False)`\n",
        "\n",
        "\\\n",
        "We are then iterating over these random indexes for the given label. First, we are doing `plt_idx = i * nclasses + idx_cls + 1` to define the position of the given label. Here, the `idx_cls` acts as the column while `i` acts as the rows. For all the samples of label 0 that we are plotting, the column `idx_cls` would remain to be the same while the row `i` will change. This helps us form a grid of samples while plotting.\n",
        "\n",
        "\\\n",
        "Now, we have the index of the random sample of the label, but how are we plotting it? We are creating a heatmap to plot the image with \n",
        "\n",
        "`p = sns.heatmap(np.reshape(X[idx], (28,28)), cmap=plt.cm.gray, xticklabels=False, yticklabels=False, cbar=False);`\n",
        "\n",
        "Here, we are taking the index `idx` and fetching it's element from `X`, and we are reshaping it in a 28*28 grid. Remember, images here are represented as binary. Let's cross verify the same for `X`."
      ]
    },
    {
      "cell_type": "code",
      "metadata": {
        "id": "sMs6DMfF0QTy",
        "colab": {
          "base_uri": "https://localhost:8080/"
        },
        "outputId": "2aa11a12-a112-4d0b-a667-923c45fbe724"
      },
      "source": [
        "print(len(X))\n",
        "print(len(X[0]))"
      ],
      "execution_count": 8,
      "outputs": [
        {
          "output_type": "stream",
          "name": "stdout",
          "text": [
            "70000\n",
            "784\n"
          ]
        }
      ]
    },
    {
      "cell_type": "markdown",
      "metadata": {
        "id": "6NCi2rBQyhhe"
      },
      "source": [
        "Here, we can see that `X` has 70,000 image data and each image has 784 pixels of data, which is equivalent to `28*28`.\n",
        "\n",
        "\\\n",
        "Now let's prepare the data by splitting it and train a Logistic Regression Model but before that, let's check the array of a particular image."
      ]
    },
    {
      "cell_type": "code",
      "metadata": {
        "id": "vWKhwPOdqznb",
        "colab": {
          "base_uri": "https://localhost:8080/",
          "height": 986
        },
        "outputId": "d42e2126-5b89-4033-80fc-af267f81e0f7"
      },
      "source": [
        "print(X[0])\n",
        "print(y[0])"
      ],
      "execution_count": null,
      "outputs": [
        {
          "output_type": "stream",
          "text": [
            "[  0.   0.   0.   0.   0.   0.   0.   0.   0.   0.   0.   0.   0.   0.\n",
            "   0.   0.   0.   0.   0.   0.   0.   0.   0.   0.   0.   0.   0.   0.\n",
            "   0.   0.   0.   0.   0.   0.   0.   0.   0.   0.   0.   0.   0.   0.\n",
            "   0.   0.   0.   0.   0.   0.   0.   0.   0.   0.   0.   0.   0.   0.\n",
            "   0.   0.   0.   0.   0.   0.   0.   0.   0.   0.   0.   0.   0.   0.\n",
            "   0.   0.   0.   0.   0.   0.   0.   0.   0.   0.   0.   0.   0.   0.\n",
            "   0.   0.   0.   0.   0.   0.   0.   0.   0.   0.   0.   0.   0.   0.\n",
            "   0.   0.   0.   0.   0.   0.   0.   0.   0.   0.   0.   0.   0.   0.\n",
            "   0.   0.   0.   0.   0.   0.   0.   0.   0.   0.   0.   0.   0.   0.\n",
            "   0.   0.   0.   0.   0.   0.   0.   0.   0.   0.   0.   0.   0.   0.\n",
            "   0.   0.   0.   0.   0.   0.   0.   0.   0.   0.   0.   0.   3.  18.\n",
            "  18.  18. 126. 136. 175.  26. 166. 255. 247. 127.   0.   0.   0.   0.\n",
            "   0.   0.   0.   0.   0.   0.   0.   0.  30.  36.  94. 154. 170. 253.\n",
            " 253. 253. 253. 253. 225. 172. 253. 242. 195.  64.   0.   0.   0.   0.\n",
            "   0.   0.   0.   0.   0.   0.   0.  49. 238. 253. 253. 253. 253. 253.\n",
            " 253. 253. 253. 251.  93.  82.  82.  56.  39.   0.   0.   0.   0.   0.\n",
            "   0.   0.   0.   0.   0.   0.   0.  18. 219. 253. 253. 253. 253. 253.\n",
            " 198. 182. 247. 241.   0.   0.   0.   0.   0.   0.   0.   0.   0.   0.\n",
            "   0.   0.   0.   0.   0.   0.   0.   0.  80. 156. 107. 253. 253. 205.\n",
            "  11.   0.  43. 154.   0.   0.   0.   0.   0.   0.   0.   0.   0.   0.\n",
            "   0.   0.   0.   0.   0.   0.   0.   0.   0.  14.   1. 154. 253.  90.\n",
            "   0.   0.   0.   0.   0.   0.   0.   0.   0.   0.   0.   0.   0.   0.\n",
            "   0.   0.   0.   0.   0.   0.   0.   0.   0.   0.   0. 139. 253. 190.\n",
            "   2.   0.   0.   0.   0.   0.   0.   0.   0.   0.   0.   0.   0.   0.\n",
            "   0.   0.   0.   0.   0.   0.   0.   0.   0.   0.   0.  11. 190. 253.\n",
            "  70.   0.   0.   0.   0.   0.   0.   0.   0.   0.   0.   0.   0.   0.\n",
            "   0.   0.   0.   0.   0.   0.   0.   0.   0.   0.   0.   0.  35. 241.\n",
            " 225. 160. 108.   1.   0.   0.   0.   0.   0.   0.   0.   0.   0.   0.\n",
            "   0.   0.   0.   0.   0.   0.   0.   0.   0.   0.   0.   0.   0.  81.\n",
            " 240. 253. 253. 119.  25.   0.   0.   0.   0.   0.   0.   0.   0.   0.\n",
            "   0.   0.   0.   0.   0.   0.   0.   0.   0.   0.   0.   0.   0.   0.\n",
            "  45. 186. 253. 253. 150.  27.   0.   0.   0.   0.   0.   0.   0.   0.\n",
            "   0.   0.   0.   0.   0.   0.   0.   0.   0.   0.   0.   0.   0.   0.\n",
            "   0.  16.  93. 252. 253. 187.   0.   0.   0.   0.   0.   0.   0.   0.\n",
            "   0.   0.   0.   0.   0.   0.   0.   0.   0.   0.   0.   0.   0.   0.\n",
            "   0.   0.   0. 249. 253. 249.  64.   0.   0.   0.   0.   0.   0.   0.\n",
            "   0.   0.   0.   0.   0.   0.   0.   0.   0.   0.   0.   0.   0.   0.\n",
            "  46. 130. 183. 253. 253. 207.   2.   0.   0.   0.   0.   0.   0.   0.\n",
            "   0.   0.   0.   0.   0.   0.   0.   0.   0.   0.   0.   0.  39. 148.\n",
            " 229. 253. 253. 253. 250. 182.   0.   0.   0.   0.   0.   0.   0.   0.\n",
            "   0.   0.   0.   0.   0.   0.   0.   0.   0.   0.  24. 114. 221. 253.\n",
            " 253. 253. 253. 201.  78.   0.   0.   0.   0.   0.   0.   0.   0.   0.\n",
            "   0.   0.   0.   0.   0.   0.   0.   0.  23.  66. 213. 253. 253. 253.\n",
            " 253. 198.  81.   2.   0.   0.   0.   0.   0.   0.   0.   0.   0.   0.\n",
            "   0.   0.   0.   0.   0.   0.  18. 171. 219. 253. 253. 253. 253. 195.\n",
            "  80.   9.   0.   0.   0.   0.   0.   0.   0.   0.   0.   0.   0.   0.\n",
            "   0.   0.   0.   0.  55. 172. 226. 253. 253. 253. 253. 244. 133.  11.\n",
            "   0.   0.   0.   0.   0.   0.   0.   0.   0.   0.   0.   0.   0.   0.\n",
            "   0.   0.   0.   0. 136. 253. 253. 253. 212. 135. 132.  16.   0.   0.\n",
            "   0.   0.   0.   0.   0.   0.   0.   0.   0.   0.   0.   0.   0.   0.\n",
            "   0.   0.   0.   0.   0.   0.   0.   0.   0.   0.   0.   0.   0.   0.\n",
            "   0.   0.   0.   0.   0.   0.   0.   0.   0.   0.   0.   0.   0.   0.\n",
            "   0.   0.   0.   0.   0.   0.   0.   0.   0.   0.   0.   0.   0.   0.\n",
            "   0.   0.   0.   0.   0.   0.   0.   0.   0.   0.   0.   0.   0.   0.\n",
            "   0.   0.   0.   0.   0.   0.   0.   0.   0.   0.   0.   0.   0.   0.\n",
            "   0.   0.   0.   0.   0.   0.   0.   0.   0.   0.   0.   0.   0.   0.]\n",
            "5\n"
          ],
          "name": "stdout"
        }
      ]
    },
    {
      "cell_type": "markdown",
      "metadata": {
        "id": "RoBqhHLF2BoA"
      },
      "source": [
        "As we can see, the given label we printed is 5, and we can also make out 5 from the array printed above. The maximum values we have in this array could be 255 (Array consists of numbers from 0 to 255).\n",
        "\n",
        "\\\n",
        "To scale these values, we will have to divide it by 255 so that all the features of an image could be represented with values between 0 and 1."
      ]
    },
    {
      "cell_type": "code",
      "metadata": {
        "id": "aMWZJy1w0r6a"
      },
      "source": [
        "X_train, X_test, y_train, y_test = train_test_split(X, y, random_state=9, train_size=7500, test_size=2500)\n",
        "\n",
        "#scaling the features\n",
        "X_train_scaled = X_train/255.0\n",
        "X_test_scaled = X_test/255.0"
      ],
      "execution_count": 9,
      "outputs": []
    },
    {
      "cell_type": "markdown",
      "metadata": {
        "id": "MMN8Bt-E2kh_"
      },
      "source": [
        "Here, we are going to use a total of 10000 samples since computing 70,000 samples might take a lot of time. For this, we have split our data into 7500 for training and 2500 for testing.\n",
        "\n",
        "\\\n",
        "We then simply divide our training and testing data by 255 to scale it and have values between 0 and 1. Let's train a Logistic Regression model with this data."
      ]
    },
    {
      "cell_type": "code",
      "metadata": {
        "id": "am6I9TAt2jez",
        "colab": {
          "base_uri": "https://localhost:8080/"
        },
        "outputId": "7fdce27d-838e-40a1-f038-240faf8c2589"
      },
      "source": [
        "clf = LogisticRegression(solver='saga', multi_class='multinomial').fit(X_train_scaled, y_train)"
      ],
      "execution_count": 10,
      "outputs": [
        {
          "output_type": "stream",
          "name": "stderr",
          "text": [
            "/usr/local/lib/python3.7/dist-packages/sklearn/linear_model/_sag.py:330: ConvergenceWarning: The max_iter was reached which means the coef_ did not converge\n",
            "  \"the coef_ did not converge\", ConvergenceWarning)\n"
          ]
        }
      ]
    },
    {
      "cell_type": "markdown",
      "metadata": {
        "id": "Y1WTw8iH7Mee"
      },
      "source": [
        "Until now, we were dealing with binary logistic regressions, but here, we have 10 labels, 0 to 9. For this, we write `multi_class='multinomial'` to specify that this is a `multinomial` logistic regression.\n",
        "\n",
        "\\\n",
        "Generally, there is a solver involved in all the logistic regressions, and the default solver is `liblinear`, which is highly efficient for linear logistic regression. This is also efficient with binary logistic regressions that we learnt earlier. For `multinomial` logistic regression, `solver='saga'` is highly efficient. It works well with large number of samples and supports `multinomial` logistic regressions, like this one.\n",
        "\n",
        "\\\n",
        "Now that we have built a model, let's see how well it performs -"
      ]
    },
    {
      "cell_type": "code",
      "metadata": {
        "id": "ozJFsxj96pam",
        "colab": {
          "base_uri": "https://localhost:8080/"
        },
        "outputId": "14814dcc-028c-447c-8677-82754a1b8143"
      },
      "source": [
        "y_pred = clf.predict(X_test_scaled)\n",
        "\n",
        "accuracy = accuracy_score(y_test, y_pred)\n",
        "print(accuracy)"
      ],
      "execution_count": 11,
      "outputs": [
        {
          "output_type": "stream",
          "name": "stdout",
          "text": [
            "0.9008\n"
          ]
        }
      ]
    },
    {
      "cell_type": "markdown",
      "metadata": {
        "id": "4vK7NZqP9qS8"
      },
      "source": [
        "We have an accuracy score of 90.04%. Looks like an extremely efficient model. Let's check how it's confusion matrix looks like -"
      ]
    },
    {
      "cell_type": "code",
      "metadata": {
        "id": "gp13OIYP9oPz",
        "colab": {
          "base_uri": "https://localhost:8080/",
          "height": 606
        },
        "outputId": "62f5f44a-ea9e-49eb-cd8a-152bc9aaf8da"
      },
      "source": [
        "cm = pd.crosstab(y_test, y_pred, rownames=['Actual'], colnames=['Predicted'])\n",
        "\n",
        "p = plt.figure(figsize=(10,10));\n",
        "p = sns.heatmap(cm, annot=True, fmt=\"d\", cbar=False)"
      ],
      "execution_count": 13,
      "outputs": [
        {
          "output_type": "display_data",
          "data": {
            "image/png": "[encoded data removed]",
            "text/plain": [
              "<Figure size 720x720 with 1 Axes>"
            ]
          },
          "metadata": {
            "needs_background": "light"
          }
        }
      ]
    },
    {
      "cell_type": "markdown",
      "metadata": {
        "id": "Xb2l-xkW-EG6"
      },
      "source": [
        "Here, we are creating an array with `cm = pd.crosstab(y_test, y_pred, rownames=['Actual'], colnames=['Predicted'])` and setting it's size to be 10*10.\n",
        "\n",
        "\\\n",
        "We are finally plotting the graph with sns, which is used to prettify the charts that we draw with matplotlib.\n",
        "\n",
        "\\\n",
        "Finally, it's time to integrate our code with our camera, so that our model can detect the digit we write on a piece of paper using the model we just trained.\n",
        "\n",
        "\\\n",
        "For that, we'll have to switch back to our devices and do the same."
      ]
    }
  ]
}